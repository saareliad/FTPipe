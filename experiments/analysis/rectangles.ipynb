{
 "cells": [
  {
   "cell_type": "code",
   "execution_count": 7,
   "metadata": {},
   "outputs": [],
   "source": [
    "import matplotlib.pyplot as plt\n",
    "from matplotlib.patches import Rectangle"
   ]
  },
  {
   "cell_type": "markdown",
   "metadata": {},
   "source": [
    "# PoC of drawing rectangle"
   ]
  },
  {
   "cell_type": "code",
   "execution_count": 46,
   "metadata": {},
   "outputs": [
    {
     "data": {
      "image/png": "[encoded data removed]",
      "text/plain": [
       "<Figure size 432x288 with 1 Axes>"
      ]
     },
     "metadata": {
      "needs_background": "light"
     },
     "output_type": "display_data"
    }
   ],
   "source": [
    "fig,ax = plt.subplots()\n",
    "ax.set_xlim(0, 9)\n",
    "ax.set_ylim(0,2)\n",
    "frac=0.5\n",
    "fat=0.3\n",
    "height=1\n",
    "x = 1-fat/2\n",
    "y = 0.2\n",
    "rect = Rectangle((x,y), fat, height, linewidth=1, fill=None)\n",
    "ax.add_patch(rect)\n",
    "ax.fill_between([x, x+fat] ,y, y+height*frac)\n",
    "plt.show()"
   ]
  },
  {
   "cell_type": "markdown",
   "metadata": {},
   "source": [
    "# Making it a function"
   ]
  },
  {
   "cell_type": "code",
   "execution_count": 175,
   "metadata": {},
   "outputs": [],
   "source": [
    "\n",
    "def arrowed_spines(fig, ax):\n",
    "\n",
    "    xmin, xmax = ax.get_xlim() \n",
    "    ymin, ymax = ax.get_ylim()\n",
    "\n",
    "    # removing the default axis on all sides:\n",
    "    for side in ['bottom','right','top','left']:\n",
    "        ax.spines[side].set_visible(False)\n",
    "\n",
    "    # removing the axis ticks\n",
    "    plt.xticks([]) # labels \n",
    "    plt.yticks([])\n",
    "    ax.xaxis.set_ticks_position('none') # tick markers\n",
    "    ax.yaxis.set_ticks_position('none')\n",
    "\n",
    "    # get width and height of axes object to compute \n",
    "    # matching arrowhead length and width\n",
    "    dps = fig.dpi_scale_trans.inverted()\n",
    "    bbox = ax.get_window_extent().transformed(dps)\n",
    "    width, height = bbox.width, bbox.height\n",
    "\n",
    "    # manual arrowhead width and length\n",
    "    hw = 1./20.*(ymax-ymin) \n",
    "    hl = 1./20.*(xmax-xmin)\n",
    "    lw = 1. # axis line width\n",
    "    ohg = 0.3 # arrow overhang\n",
    "\n",
    "    # compute matching arrowhead length and width\n",
    "    yhw = hw/(ymax-ymin)*(xmax-xmin)* height/width \n",
    "    yhl = hl/(xmax-xmin)*(ymax-ymin)* width/height\n",
    "\n",
    "    # draw x and y axis\n",
    "    ax.arrow(xmin, ymin, xmax-xmin, 0., fc='k', ec='k', lw = lw, \n",
    "             head_width=hw, head_length=hl, overhang = ohg, \n",
    "             length_includes_head= True, clip_on = False) \n",
    "\n",
    "    ax.arrow(xmin, ymin, 0., ymax-ymin, fc='k', ec='k', lw = lw, \n",
    "             head_width=yhw, head_length=yhl, overhang = ohg, \n",
    "             length_includes_head= True, clip_on = False)"
   ]
  },
  {
   "cell_type": "code",
   "execution_count": 171,
   "metadata": {},
   "outputs": [],
   "source": [
    "ax.arrow?"
   ]
  },
  {
   "cell_type": "code",
   "execution_count": 184,
   "metadata": {},
   "outputs": [
    {
     "data": {
      "image/png": "[encoded data removed]",
      "text/plain": [
       "<Figure size 288x155.52 with 1 Axes>"
      ]
     },
     "metadata": {},
     "output_type": "display_data"
    }
   ],
   "source": [
    "GPU_DOWN_BORDER = 0 #1.46*3 / 2 - 0.5\n",
    "GPU_HEIGHT = 1\n",
    "GPU_MAX_WIDTH = 10\n",
    "SPACE = 2.2\n",
    "N_GPUS = 8\n",
    "SPACE_BETWEEN_GPU_SETS = 1.5\n",
    "BB_LINE_WIDTH = 2\n",
    "\n",
    "def sanitize_memory(memory_mb):\n",
    "    return (memory_mb / 11019) * GPU_MAX_WIDTH\n",
    "def sanitize_utilizaton(util):\n",
    "    return (util/100) * GPU_HEIGHT\n",
    "\n",
    "def add_gpu(ax, gpu_id, memory, utilization):\n",
    "    memory = sanitize_memory(memory)\n",
    "    utilization = sanitize_utilizaton(utilization)\n",
    "    \n",
    "    frac=utilization\n",
    "    fat=memory\n",
    "    height=GPU_HEIGHT\n",
    "    x = gpu_id*(GPU_MAX_WIDTH+SPACE) #+ #GPU_MAX_WIDTH/2 -fat/2\n",
    "    y = GPU_DOWN_BORDER\n",
    "    \n",
    "    # Bounding box:\n",
    "    #x_bb = x + fat/2 - GPU_MAX_WIDTH/2 #  gpu_id*(GPU_MAX_WIDTH+SPACE) #+ GPU_MAX_WIDTH/2\n",
    "    bb = Rectangle((x,y), GPU_MAX_WIDTH, GPU_HEIGHT, linewidth=BB_LINE_WIDTH, fill=None)\n",
    "    \n",
    "    rect = Rectangle((x,y), fat, height, linewidth=0, fill=None)\n",
    "    ax.add_patch(rect)\n",
    "    ax.add_patch(bb)\n",
    "    ax.fill_between([x, x+fat] ,y, y+height*frac, hatch=\"\\\\\", color=None, )\n",
    "\n",
    "# fig,axes = plt.subplots(2,1, figsize=( 4, 2.16))\n",
    "fig,axes = plt.subplots(1,1, figsize=( 4, 2.16))\n",
    "axes = [axes]\n",
    "ax = axes[0]\n",
    "ax.set_xlim(0 - BB_LINE_WIDTH - 0.7, 2 + (GPU_MAX_WIDTH+SPACE)*N_GPUS + 1)\n",
    "ax.set_ylim( - SPACE_BETWEEN_GPU_SETS - 0.2,  1.2*1)\n",
    "\n",
    "data = [(7403, 73),\n",
    "(9599,97),\n",
    "(9901, 96),\n",
    "(9917, 100),\n",
    "(9823, 93),\n",
    "(9819,99),\n",
    "(8799,80),\n",
    "(10249,82)]\n",
    "for i, (mem, util) in enumerate(data):\n",
    "    add_gpu(ax, i, mem, util)\n",
    "    \n",
    "\n",
    "GPU_DOWN_BORDER -= SPACE_BETWEEN_GPU_SETS\n",
    "# ax = axes[1]\n",
    "# ax.set_xlim(0, 2 + (GPU_MAX_WIDTH+SPACE)*N_GPUS + 1)\n",
    "# ax.set_ylim(0,1.2*1)\n",
    "\n",
    "# data = [(7640, 92),\n",
    "# (7478, 83),\n",
    "# (7462, 85),\n",
    "# (6096, 60),\n",
    "# (3976, 26),\n",
    "# (3974, 10),\n",
    "# (3956, 16),\n",
    "# (4394, 24)] \n",
    "\n",
    "\n",
    "data = [(7680, 99),\n",
    "(7516, 89),\n",
    "(7500, 97),\n",
    "(6159, 69),\n",
    "(4016, 20),\n",
    "(4014, 21),\n",
    "(3996, 23),\n",
    "(4434, 23)] \n",
    "\n",
    "for i, (mem, util) in enumerate(data):\n",
    "    add_gpu(ax, i, mem, util)\n",
    "    \n",
    "for ax in axes:\n",
    "    ax.spines['right'].set_visible(False)\n",
    "    ax.spines['top'].set_visible(False)\n",
    "    ax.spines['left'].set_visible(False)\n",
    "    ax.spines['bottom'].set_visible(False)\n",
    "\n",
    "    ax.set_xticks([])\n",
    "    ax.set_yticks([])\n",
    "plt.xticks([])\n",
    "plt.yticks([])\n",
    "plt.subplots_adjust(wspace=0, hspace=0)\n",
    "\n",
    "ax.spines['left'].set_visible(True)\n",
    "ax.spines['bottom'].set_visible(True)\n",
    "\n",
    "# axes[0].set_title(\"Virtual\")\n",
    "# axes[1].set_title(\"Sequential\")\n",
    "# arrowed_spines(fig, ax)\n",
    "\n",
    "ax.set_xlabel(\"Memory\")\n",
    "ax.set_ylabel(\"utilization\")\n",
    "import os\n",
    "os.makedirs(\"paper_plots\", exist_ok=True)\n",
    "plt.savefig('paper_plots/utilization_vis.pdf', transparent=False,)\n",
    "\n",
    "plt.show()\n",
    "\n"
   ]
  },
  {
   "cell_type": "code",
   "execution_count": 48,
   "metadata": {},
   "outputs": [],
   "source": [
    "ax.fill_between?"
   ]
  },
  {
   "cell_type": "code",
   "execution_count": 32,
   "metadata": {},
   "outputs": [
    {
     "data": {
      "text/plain": [
       "<matplotlib.patches.Rectangle at 0x1e4d5405910>"
      ]
     },
     "execution_count": 32,
     "metadata": {},
     "output_type": "execute_result"
    }
   ],
   "source": []
  },
  {
   "cell_type": "code",
   "execution_count": 33,
   "metadata": {},
   "outputs": [],
   "source": []
  }
 ],
 "metadata": {
  "kernelspec": {
   "display_name": "Python 3",
   "language": "python",
   "name": "python3"
  },
  "language_info": {
   "codemirror_mode": {
    "name": "ipython",
    "version": 3
   },
   "file_extension": ".py",
   "mimetype": "text/x-python",
   "name": "python",
   "nbconvert_exporter": "python",
   "pygments_lexer": "ipython3",
   "version": "3.8.2"
  }
 },
 "nbformat": 4,
 "nbformat_minor": 4
}
