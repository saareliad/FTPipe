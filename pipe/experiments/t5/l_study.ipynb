{
 "cells": [
  {
   "cell_type": "markdown",
   "metadata": {
    "collapsed": true,
    "pycharm": {
     "name": "#%% md\n"
    }
   },
   "source": [
    "# L STUDY\n",
    "\n"
   ]
  },
  {
   "cell_type": "markdown",
   "source": [
    "## Results\n",
    "##### BOOLQ/MULTIRC MPIPE LAYER GRAPH\n",
    "L_to_minmax (stage2): {8: 5412390.345820168, 10: 5321951.931925433, 12: 4287296.006371616, 14: 4299682.006233197, 16: 3277728.0107911793, 24: 3977034.723205433\n",
    "7, 32: 4124582.134647935, 48: 3288787.4604429817}\n",
    "L to refinement improvement {8: 0.0009918055356386013, 10: 0.03207209482403561, 12: 0.0012524062314771545, 14: 0.0, 16: 0.0016387901270331628, 24: 0.0885429114\n",
    "516032, 32: 0.041539731788976964, 48: 0.0016332702451014036}\n",
    "L_to_num_stages: {8: 6, 10: 10, 12: 12, 14: 14, 16: 15, 24: 22, 32: 28, 48: 43}\n",
    "L_to_best_objective {8: 5407027.62588946, 10: 5156569.932096464, 12: 4281933.286440908, 14: 4299682.006233197, 16: 3272365.290860471, 24: 3653539.6826037327, 32: 3960081.4148140475, 48: 3283424.7405122733}\n",
    "\n",
    "##### BOOLQ/MULTIRC MPIPE OP GRAPH\n",
    "L_to_minmax (stage2): {8: 1532305.0407250412, 9: 1882411.894899948, 10: 2221975.3589942893, 12: 1799247.7319583606, 14: 1795616.2407786662, 16: 1393699.7560394\n",
    "23, 24: 1413225.4123959378, 32: 1538902.7198332283, 48: 1390408.9568188647, 64: 1362317.8667815712}\n",
    "L to refinement improvement {8: 0.0036939063447318787, 9: 0.03969102545916603, 10: 0.09544294965574651, 12: 0.004777801894945366, 14: 0.013879246643060172, 16:\n",
    " 0.017914123047814368, 24: 0.03719429816630471, 32: 0.07849982981290116, 48: 0.017957283296258897, 64: 0.017669310533162896}\n",
    "L_to_num_stages: {8: 8, 9: 9, 10: 10, 12: 12, 14: 14, 16: 16, 24: 23, 32: 29, 48: 46, 64: 51}\n",
    "L_to_best_objective {8: 1526665.6806808896, 9: 1810549.3351436842, 10: 2028380.7200480564, 12: 1790692.1595651268, 14: 1771035.600860681, 16: 1369172.236127779\n",
    ", 24: 1362546.4533447907, 32: 1426891.9449901055, 48: 1365881.4369072206, 64: 1338664.5865029036}"
   ],
   "metadata": {
    "collapsed": false
   }
  },
  {
   "cell_type": "code",
   "execution_count": 1,
   "outputs": [],
   "source": [
    "d = L_to_best_objective = {8: 5407027.62588946, 10: 5156569.932096464, 12: 4281933.286440908, 14: 4299682.006233197, 16: 3272365.290860471, 24: 3653539.6826037327,\n",
    "                           32: 3960081.4148140475, 48: 3283424.7405122733}\n",
    "d['64'] = 3245927.697342413\n",
    "\n",
    "\n",
    "# d = L_to_best_objective2 =  {8: 1526665.6806808896, 9: 1810549.3351436842, 10: 2028380.7200480564, 12: 1790692.1595651268, 14: 1771035.600860681, 16: 1369172.236127779 , 24: 1362546.4533447907, 32: 1426891.9449901055, 48: 1365881.4369072206, 64: 1338664.5865029036}"
   ],
   "metadata": {
    "collapsed": false,
    "pycharm": {
     "name": "#%%\n"
    }
   }
  },
  {
   "cell_type": "code",
   "execution_count": 2,
   "outputs": [],
   "source": [
    "import pandas as pd\n",
    "\n",
    "df = pd.DataFrame.from_records(list(d.items()))"
   ],
   "metadata": {
    "collapsed": false,
    "pycharm": {
     "name": "#%%\n"
    }
   }
  },
  {
   "cell_type": "code",
   "execution_count": 3,
   "outputs": [
    {
     "data": {
      "text/plain": "    0             1\n0   8  5.407028e+06\n1  10  5.156570e+06\n2  12  4.281933e+06\n3  14  4.299682e+06\n4  16  3.272365e+06\n5  24  3.653540e+06\n6  32  3.960081e+06\n7  48  3.283425e+06\n8  64  3.245928e+06",
      "text/html": "<div>\n<style scoped>\n    .dataframe tbody tr th:only-of-type {\n        vertical-align: middle;\n    }\n\n    .dataframe tbody tr th {\n        vertical-align: top;\n    }\n\n    .dataframe thead th {\n        text-align: right;\n    }\n</style>\n<table border=\"1\" class=\"dataframe\">\n  <thead>\n    <tr style=\"text-align: right;\">\n      <th></th>\n      <th>0</th>\n      <th>1</th>\n    </tr>\n  </thead>\n  <tbody>\n    <tr>\n      <th>0</th>\n      <td>8</td>\n      <td>5.407028e+06</td>\n    </tr>\n    <tr>\n      <th>1</th>\n      <td>10</td>\n      <td>5.156570e+06</td>\n    </tr>\n    <tr>\n      <th>2</th>\n      <td>12</td>\n      <td>4.281933e+06</td>\n    </tr>\n    <tr>\n      <th>3</th>\n      <td>14</td>\n      <td>4.299682e+06</td>\n    </tr>\n    <tr>\n      <th>4</th>\n      <td>16</td>\n      <td>3.272365e+06</td>\n    </tr>\n    <tr>\n      <th>5</th>\n      <td>24</td>\n      <td>3.653540e+06</td>\n    </tr>\n    <tr>\n      <th>6</th>\n      <td>32</td>\n      <td>3.960081e+06</td>\n    </tr>\n    <tr>\n      <th>7</th>\n      <td>48</td>\n      <td>3.283425e+06</td>\n    </tr>\n    <tr>\n      <th>8</th>\n      <td>64</td>\n      <td>3.245928e+06</td>\n    </tr>\n  </tbody>\n</table>\n</div>"
     },
     "execution_count": 3,
     "metadata": {},
     "output_type": "execute_result"
    }
   ],
   "source": [
    "df\n"
   ],
   "metadata": {
    "collapsed": false,
    "pycharm": {
     "name": "#%%\n"
    }
   }
  },
  {
   "cell_type": "code",
   "execution_count": 4,
   "outputs": [],
   "source": [
    "df = df.rename({0:'L', 1: 'objective'}, axis='columns') # set_index('L', drop=True)\n",
    "df['objective'] = df['objective'].max() / df['objective']"
   ],
   "metadata": {
    "collapsed": false,
    "pycharm": {
     "name": "#%%\n"
    }
   }
  },
  {
   "cell_type": "code",
   "execution_count": 5,
   "outputs": [
    {
     "data": {
      "text/plain": "    L  objective\n0   8   1.000000\n1  10   1.048571\n2  12   1.262754\n3  14   1.257541\n4  16   1.652330\n5  24   1.479942\n6  32   1.365383\n7  48   1.646765\n8  64   1.665788",
      "text/html": "<div>\n<style scoped>\n    .dataframe tbody tr th:only-of-type {\n        vertical-align: middle;\n    }\n\n    .dataframe tbody tr th {\n        vertical-align: top;\n    }\n\n    .dataframe thead th {\n        text-align: right;\n    }\n</style>\n<table border=\"1\" class=\"dataframe\">\n  <thead>\n    <tr style=\"text-align: right;\">\n      <th></th>\n      <th>L</th>\n      <th>objective</th>\n    </tr>\n  </thead>\n  <tbody>\n    <tr>\n      <th>0</th>\n      <td>8</td>\n      <td>1.000000</td>\n    </tr>\n    <tr>\n      <th>1</th>\n      <td>10</td>\n      <td>1.048571</td>\n    </tr>\n    <tr>\n      <th>2</th>\n      <td>12</td>\n      <td>1.262754</td>\n    </tr>\n    <tr>\n      <th>3</th>\n      <td>14</td>\n      <td>1.257541</td>\n    </tr>\n    <tr>\n      <th>4</th>\n      <td>16</td>\n      <td>1.652330</td>\n    </tr>\n    <tr>\n      <th>5</th>\n      <td>24</td>\n      <td>1.479942</td>\n    </tr>\n    <tr>\n      <th>6</th>\n      <td>32</td>\n      <td>1.365383</td>\n    </tr>\n    <tr>\n      <th>7</th>\n      <td>48</td>\n      <td>1.646765</td>\n    </tr>\n    <tr>\n      <th>8</th>\n      <td>64</td>\n      <td>1.665788</td>\n    </tr>\n  </tbody>\n</table>\n</div>"
     },
     "execution_count": 5,
     "metadata": {},
     "output_type": "execute_result"
    }
   ],
   "source": [
    "df\n",
    "\n"
   ],
   "metadata": {
    "collapsed": false,
    "pycharm": {
     "name": "#%%\n"
    }
   }
  },
  {
   "cell_type": "code",
   "source": [
    "t = df['objective'].map('{:,.2f}'.format)\n",
    "print(t.to_latex(caption='Effect of $L$', bold_rows=True, index=False))"
   ],
   "metadata": {
    "collapsed": false,
    "pycharm": {
     "name": "#%%\n"
    }
   },
   "execution_count": 6,
   "outputs": [
    {
     "name": "stdout",
     "output_type": "stream",
     "text": [
      "\\begin{table}\n",
      "\\centering\n",
      "\\caption{Effect of $L$}\n",
      "\\begin{tabular}{l}\n",
      "\\toprule\n",
      "objective \\\\\n",
      "\\midrule\n",
      "     1.00 \\\\\n",
      "     1.05 \\\\\n",
      "     1.26 \\\\\n",
      "     1.26 \\\\\n",
      "     1.65 \\\\\n",
      "     1.48 \\\\\n",
      "     1.37 \\\\\n",
      "     1.65 \\\\\n",
      "     1.67 \\\\\n",
      "\\bottomrule\n",
      "\\end{tabular}\n",
      "\\end{table}\n",
      "\n"
     ]
    }
   ]
  },
  {
   "cell_type": "markdown",
   "source": [
    "\\begin{table}\n",
    "\\centering\n",
    "\\caption{Effect of $L$}\n",
    "\\begin{tabular}{ll}\n",
    "\\toprule\n",
    "\\textbf{L } & \\textbf{objective} \\\\\n",
    "\\midrule\n",
    "\\textbf{8 } &      1x \\\\\n",
    "\\textbf{10} &      1.05x \\\\\n",
    "\\textbf{12} &      1.26x \\\\\n",
    "\\textbf{14} &      1.26x \\\\\n",
    "\\textbf{16} &      1.65x \\\\\n",
    "\\textbf{24} &      1.48x \\\\\n",
    "\\textbf{32} &      1.37x \\\\\n",
    "\\textbf{48} &      1.65x \\\\\n",
    "\\bottomrule\n",
    "\\end{tabular}\n",
    "\\end{table}"
   ],
   "metadata": {
    "collapsed": false
   }
  },
  {
   "cell_type": "code",
   "execution_count": 7,
   "outputs": [
    {
     "data": {
      "text/plain": "<matplotlib.axes._subplots.AxesSubplot at 0x11b5935c910>"
     },
     "execution_count": 7,
     "metadata": {},
     "output_type": "execute_result"
    },
    {
     "data": {
      "text/plain": "<Figure size 432x288 with 1 Axes>",
      "image/png": "[encoded data removed]"
     },
     "metadata": {
      "needs_background": "light"
     },
     "output_type": "display_data"
    }
   ],
   "source": [
    "df.plot.bar()\n"
   ],
   "metadata": {
    "collapsed": false,
    "pycharm": {
     "name": "#%%\n"
    }
   }
  },
  {
   "cell_type": "code",
   "execution_count": 8,
   "outputs": [
    {
     "data": {
      "text/plain": "<Figure size 432x144 with 1 Axes>",
      "image/png": "[encoded data removed]"
     },
     "metadata": {},
     "output_type": "display_data"
    }
   ],
   "source": [
    "import seaborn as sns\n",
    "import matplotlib.pyplot as plt\n",
    "def set_style():\n",
    "    # This sets reasonable defaults for font size for\n",
    "    # a figure that will go in a paper\n",
    "    sns.set_context(\"paper\")\n",
    "\n",
    "    # Set the font to be serif, rather than sans\n",
    "    sns.set(font='serif')\n",
    "\n",
    "    # Make the background white, and specify the\n",
    "    # specific font family\n",
    "    sns.set_style(\"white\", {\n",
    "        \"font.family\": \"serif\",\n",
    "        \"font.serif\": [\"Times\", \"Palatino\", \"serif\"]\n",
    "    })\n",
    "\n",
    "    import matplotlib\n",
    "    matplotlib.rcParams['pdf.fonttype'] = 42\n",
    "    matplotlib.rcParams['ps.fonttype'] = 42\n",
    "set_style()\n",
    "palette = sns.color_palette(\"dark\")\n",
    "fig, ax = plt.subplots(nrows=1, ncols=1, figsize=(6, 2), )\n",
    "ax.set_ylim(0.9,1.7)\n",
    "sns.barplot(x=df['L'], y=df['objective'].rename('Speedup'), palette=palette, alpha=.6, ax=ax)\n",
    "plt.savefig(\"effect_of_L_layers.pdf\", transparent=False, bbox_inches='tight')\n",
    "\n",
    "# plt.savefig(\"results/paper_plots/VirtualStages_barplot_TTA.pdf\", transparent=False, bbox_inches='tight')\n"
   ],
   "metadata": {
    "collapsed": false,
    "pycharm": {
     "name": "#%%\n"
    }
   }
  }
 ],
 "metadata": {
  "kernelspec": {
   "name": "python3",
   "language": "python",
   "display_name": "Python 3"
  },
  "language_info": {
   "codemirror_mode": {
    "name": "ipython",
    "version": 2
   },
   "file_extension": ".py",
   "mimetype": "text/x-python",
   "name": "python",
   "nbconvert_exporter": "python",
   "pygments_lexer": "ipython2",
   "version": "2.7.6"
  }
 },
 "nbformat": 4,
 "nbformat_minor": 0
}