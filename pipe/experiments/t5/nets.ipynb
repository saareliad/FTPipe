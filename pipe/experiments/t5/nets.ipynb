{
 "cells": [
  {
   "cell_type": "code",
   "execution_count": 7,
   "metadata": {},
   "outputs": [],
   "source": [
    "import os\n",
    "import pandas as pd\n",
    "import matplotlib.pyplot as plt\n",
    "import numpy as np"
   ]
  },
  {
   "cell_type": "code",
   "execution_count": 8,
   "metadata": {},
   "outputs": [],
   "source": [
    "nets = [\"BERT\", \"XLNET\", \"RoBERTa\", \"GPT2\", \"Megatron\", \"T5-3B\", \"T5-11B\", \"GPT3\", \"Gshard\"]\n",
    "size = [ 0.340  ,0.340 ,  0.355   ,   1.5 ,   8.3       ,   3    ,   11    ,   175 ,    600  ]"
   ]
  },
  {
   "cell_type": "code",
   "execution_count": 9,
   "metadata": {},
   "outputs": [
    {
     "data": {
      "text/plain": "([<matplotlib.axis.YTick at 0x1a42421c490>,\n  <matplotlib.axis.YTick at 0x1a42421ce80>,\n  <matplotlib.axis.YTick at 0x1a4247f0bb0>,\n  <matplotlib.axis.YTick at 0x1a4249a86d0>,\n  <matplotlib.axis.YTick at 0x1a424994e50>,\n  <matplotlib.axis.YTick at 0x1a424994790>,\n  <matplotlib.axis.YTick at 0x1a4249989a0>,\n  <matplotlib.axis.YTick at 0x1a424998b80>,\n  <matplotlib.axis.YTick at 0x1a4249981c0>],\n [Text(0, 0, '0.34'),\n  Text(0, 0, '0.34'),\n  Text(0, 0, '0.355'),\n  Text(0, 0, '1.5'),\n  Text(0, 0, '8.3'),\n  Text(0, 0, '3'),\n  Text(0, 0, '11'),\n  Text(0, 0, '175'),\n  Text(0, 0, '600')])"
     },
     "execution_count": 9,
     "metadata": {},
     "output_type": "execute_result"
    },
    {
     "data": {
      "text/plain": "<Figure size 432x288 with 1 Axes>",
      "image/png": "[encoded data removed]"
     },
     "metadata": {},
     "output_type": "display_data"
    }
   ],
   "source": [
    "fix, ax = plt.subplots()\n",
    "ax.set_yscale('log')\n",
    "ax.set_yscale('log')\n",
    "\n",
    "plt.scatter(np.arange(len(nets)), size)\n",
    "plt.xticks(np.arange(len(nets)), nets)\n",
    "plt.yticks(size, size)"
   ]
  },
  {
   "cell_type": "code",
   "execution_count": 10,
   "metadata": {},
   "outputs": [],
   "source": [
    "#len(vals)"
   ]
  },
  {
   "cell_type": "code",
   "execution_count": 11,
   "metadata": {},
   "outputs": [
    {
     "data": {
      "text/plain": "9"
     },
     "execution_count": 11,
     "metadata": {},
     "output_type": "execute_result"
    }
   ],
   "source": [
    "len(nets)"
   ]
  },
  {
   "cell_type": "code",
   "execution_count": 12,
   "metadata": {
    "scrolled": true
   },
   "outputs": [
    {
     "data": {
      "text/plain": "<Figure size 432x266.996 with 1 Axes>",
      "image/png": "[encoded data removed]"
     },
     "metadata": {},
     "output_type": "display_data"
    }
   ],
   "source": [
    "import seaborn as sns\n",
    "\n",
    "\n",
    "# plt.rc('font', family='serif')\n",
    "# plt.rc('xtick', labelsize='small')\n",
    "# plt.rc('ytick', labelsize='small')\n",
    "# plt.rc('font', family='serif', serif='Times')\n",
    "# plt.rc('text', usetex=False)\n",
    "# plt.rc('xtick', labelsize=8)\n",
    "# plt.rc('ytick', labelsize=8)\n",
    "# plt.rc('axes', labelsize=8)\n",
    "# def set_style():\n",
    "#     pass\n",
    "#     # plt.style.use(['seaborn-white', 'seaborn-paper'])\n",
    "#     # matplotlib.rc(\"font\", family=\"Times New Roman\")\n",
    "#     # plt.rc('font', family='serif', serif='Times')\n",
    "def set_style():\n",
    "    # This sets reasonable defaults for font size for\n",
    "    # a figure that will go in a paper\n",
    "    sns.set_context(\"paper\")\n",
    "\n",
    "    # Set the font to be serif, rather than sans\n",
    "    sns.set(font='serif')\n",
    "\n",
    "    # Make the background white, and specify the\n",
    "    # specific font family\n",
    "    sns.set_style(\"white\", {\n",
    "        \"font.family\": \"serif\",\n",
    "        \"font.serif\": [\"Times\", \"Palatino\", \"serif\"]\n",
    "    })\n",
    "\n",
    "set_style()\n",
    "width = 6\n",
    "height = width / 1.618\n",
    "\n",
    "fix, ax = plt.subplots(figsize=(width, height))\n",
    "# ax.set_yscale('log')\n",
    "# ax.set_yscale('log')\n",
    "# size = size[:-1]\n",
    "# nets = nets[:-1]\n",
    "nets = [\"BERT\", \"XLNet\", \"RoBERTa\", \"GPT2\" , \"T5-3B \",  \"Megatron\", \"   T5-11B\" , \"GPT3\", \"Gshard\"]\n",
    "size = [ 0.340  ,0.340 ,  0.355   ,   1.5 ,   8.3       ,   3    ,   11    ,   175 ,    600  ]\n",
    "\n",
    "size = [ \"340M\" ,  \"355M\"   ,   \"1.5B\"         ,  \"3B\"    , \"8.3B\" ,   \"11B\"  ,     \"175B\" ,    \"600B\"  ]\n",
    "\n",
    "vals = [1, 1, 2, 3, 4, 5, 6, 7, 8]\n",
    "\n",
    "from matplotlib.colors import ListedColormap\n",
    "# my_cmap = list(ListedColormap(sns.color_palette('dark').as_hex()))\n",
    "colors = list(sns.color_palette('Blues').as_hex())\n",
    "colors = [colors[2]]\n",
    "try:\n",
    "    red = colors[3]\n",
    "    del colors[3]\n",
    "except:\n",
    "    pass\n",
    "bars = plt.bar(np.arange(len(nets)), vals, color=colors)\n",
    "plt.xticks(np.arange(len(nets)), nets)\n",
    "plt.yticks(np.arange(len(nets)+1), [None] + size)\n",
    "# ax.set_ylim(0,180)\n",
    "\n",
    "for tick in ax.xaxis.get_major_ticks():\n",
    "#         tick.label.set_fontsize(14) \n",
    "        # specify integer or one of preset strings, e.g.\n",
    "    tick.label.set_fontsize('x-small')\n",
    "    \n",
    "for tick in ax.xaxis.get_minor_ticks():\n",
    "#         tick.label.set_fontsize(14) \n",
    "        # specify integer or one of preset strings, e.g.\n",
    "    tick.label.set_fontsize('x-small') \n",
    "    \n",
    "# plt.grid(axis='y')\n",
    "sns.despine()\n",
    "ax.grid(axis=\"y\", alpha=0.3)\n",
    "ax.set_xlabel(\"Model\", size='medium')\n",
    "ax.set_ylabel(\"Number of Parameters\", size='medium')\n",
    "\n",
    "# red=colors[3]\n",
    "\n",
    "reds = list(sns.color_palette('Reds').as_hex())\n",
    "red='r'\n",
    "bars[0].set_color(red)\n",
    "bars[3].set_color(red)\n",
    "bars[4].set_color(red)\n",
    "bars[6].set_color(red)\n",
    "os.makedirs(\"results/paper_plots\", exist_ok=True)\n",
    "plt.savefig(\"results/paper_plots/new_nets.pdf\", transparent=False, bbox_inches='tight')\n",
    "\n",
    "\n",
    "plt.show()\n"
   ]
  },
  {
   "cell_type": "code",
   "execution_count": 13,
   "metadata": {},
   "outputs": [
    {
     "data": {
      "text/plain": "<matplotlib.colors.ListedColormap at 0x1a4249a6880>"
     },
     "execution_count": 13,
     "metadata": {},
     "output_type": "execute_result"
    }
   ],
   "source": [
    "ListedColormap(sns.color_palette('dark').as_hex())"
   ]
  },
  {
   "cell_type": "code",
   "execution_count": 13,
   "metadata": {},
   "outputs": [],
   "source": []
  }
 ],
 "metadata": {
  "kernelspec": {
   "name": "python3",
   "language": "python",
   "display_name": "Python 3"
  },
  "language_info": {
   "codemirror_mode": {
    "name": "ipython",
    "version": 3
   },
   "file_extension": ".py",
   "mimetype": "text/x-python",
   "name": "python",
   "nbconvert_exporter": "python",
   "pygments_lexer": "ipython3",
   "version": "3.8.2"
  }
 },
 "nbformat": 4,
 "nbformat_minor": 4
}